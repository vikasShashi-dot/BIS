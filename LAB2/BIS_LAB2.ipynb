{
  "nbformat": 4,
  "nbformat_minor": 0,
  "metadata": {
    "colab": {
      "provenance": [],
      "authorship_tag": "ABX9TyMV3VTiBz9QyZpQzYbdDWas",
      "include_colab_link": true
    },
    "kernelspec": {
      "name": "python3",
      "display_name": "Python 3"
    },
    "language_info": {
      "name": "python"
    }
  },
  "cells": [
    {
      "cell_type": "markdown",
      "metadata": {
        "id": "view-in-github",
        "colab_type": "text"
      },
      "source": [
        "<a href=\"https://colab.research.google.com/github/vikasShashi-dot/BIS/blob/main/LAB2/BIS_LAB2.ipynb\" target=\"_parent\"><img src=\"https://colab.research.google.com/assets/colab-badge.svg\" alt=\"Open In Colab\"/></a>"
      ]
    },
    {
      "cell_type": "markdown",
      "source": [
        "LAB 2 Gene Expression Optimization"
      ],
      "metadata": {
        "id": "Y3gP8_bEaVxE"
      }
    },
    {
      "cell_type": "code",
      "metadata": {
        "colab": {
          "base_uri": "https://localhost:8080/"
        },
        "id": "6e89b633",
        "outputId": "44370d26-9572-4368-ff5e-aa8a97435539"
      },
      "source": [
        "import random\n",
        "import math\n",
        "\n",
        "CHROM_LENGTH = 5\n",
        "POP_SIZE = 4\n",
        "CROSS_RATE = 0.8\n",
        "MUT_RATE = 0.1\n",
        "GENERATIONS = 10\n",
        "\n",
        "def fitness(x):\n",
        "    return -(10 + (x**2 - 10 * math.cos(2*math.pi*x)))\n",
        "\n",
        "def encode(x):\n",
        "    return format(x, f'0{CHROM_LENGTH}b')\n",
        "\n",
        "def decode(b):\n",
        "    return int(b, 2)\n",
        "\n",
        "def gene_expression(chrom):\n",
        "    return decode(chrom)\n",
        "\n",
        "def roulette_selection(pop, fitnesses):\n",
        "    total_fit = sum(fitnesses)\n",
        "    pick = random.uniform(0, total_fit)\n",
        "    current = 0\n",
        "    for i, f in enumerate(fitnesses):\n",
        "        current += f\n",
        "        if current > pick:\n",
        "            return pop[i]\n",
        "    return pop[-1]\n",
        "\n",
        "def crossover(p1, p2):\n",
        "    if random.random() < CROSS_RATE:\n",
        "        point = random.randint(1, CHROM_LENGTH - 1)\n",
        "        c1 = p1[:point] + p2[point:]\n",
        "        c2 = p2[:point] + p1[point:]\n",
        "        return c1, c2\n",
        "    return p1, p2\n",
        "\n",
        "def mutate(chrom):\n",
        "    chrom_list = list(chrom)\n",
        "    for i in range(CHROM_LENGTH):\n",
        "        if random.random() < MUT_RATE:\n",
        "            chrom_list[i] = '1' if chrom_list[i] == '0' else '0'\n",
        "    return ''.join(chrom_list)\n",
        "\n",
        "def gene_expression_algorithm():\n",
        "    population = [encode(x) for x in [12, 23, 5, 19]]\n",
        "    print(\"Initial Population:\", population, [decode(c) for c in population])\n",
        "\n",
        "    for gen in range(1, GENERATIONS + 1):\n",
        "        expressed = [gene_expression(c) for c in population]\n",
        "        fitnesses = [fitness(x) for x in expressed]\n",
        "\n",
        "        total_fit = sum(fitnesses)\n",
        "        probs = [f / total_fit for f in fitnesses]\n",
        "        expected = [p * POP_SIZE for p in probs]\n",
        "\n",
        "        print(f\"\\nGeneration {gen}\")\n",
        "        for i in range(POP_SIZE):\n",
        "            print(f\"x={expressed[i]}, bin={population[i]}, fit={fitnesses[i]}, \"\n",
        "                  f\"prob={probs[i]:.3f}, exp_count={expected[i]:.2f}\")\n",
        "\n",
        "        new_pop = []\n",
        "        while len(new_pop) < POP_SIZE:\n",
        "            p1 = roulette_selection(population, fitnesses)\n",
        "            p2 = roulette_selection(population, fitnesses)\n",
        "            c1, c2 = crossover(p1, p2)\n",
        "            c1, c2 = mutate(c1), mutate(c2)\n",
        "            new_pop.extend([c1, c2])\n",
        "\n",
        "        population = new_pop[:POP_SIZE]\n",
        "\n",
        "    expressed = [gene_expression(c) for c in population]\n",
        "    fitnesses = [fitness(x) for x in expressed]\n",
        "    best_idx = fitnesses.index(max(fitnesses))\n",
        "    print(\"\\nFinal Best Solution:\", expressed[best_idx], population[best_idx], \"fitness=\", fitnesses[best_idx])\n",
        "\n",
        "gene_expression_algorithm()"
      ],
      "execution_count": 6,
      "outputs": [
        {
          "output_type": "stream",
          "name": "stdout",
          "text": [
            "Initial Population: ['01100', '10111', '00101', '10011'] [12, 23, 5, 19]\n",
            "\n",
            "Generation 1\n",
            "x=12, bin=01100, fit=-144.0, prob=0.136, exp_count=0.54\n",
            "x=23, bin=10111, fit=-529.0, prob=0.500, exp_count=2.00\n",
            "x=5, bin=00101, fit=-25.0, prob=0.024, exp_count=0.09\n",
            "x=19, bin=10011, fit=-361.0, prob=0.341, exp_count=1.36\n",
            "\n",
            "Generation 2\n",
            "x=14, bin=01110, fit=-196.0, prob=0.197, exp_count=0.79\n",
            "x=12, bin=01100, fit=-144.0, prob=0.145, exp_count=0.58\n",
            "x=13, bin=01101, fit=-169.0, prob=0.170, exp_count=0.68\n",
            "x=22, bin=10110, fit=-484.0, prob=0.487, exp_count=1.95\n",
            "\n",
            "Generation 3\n",
            "x=24, bin=11000, fit=-576.0, prob=0.574, exp_count=2.29\n",
            "x=14, bin=01110, fit=-196.0, prob=0.195, exp_count=0.78\n",
            "x=14, bin=01110, fit=-196.0, prob=0.195, exp_count=0.78\n",
            "x=6, bin=00110, fit=-36.0, prob=0.036, exp_count=0.14\n",
            "\n",
            "Generation 4\n",
            "x=6, bin=00110, fit=-36.0, prob=0.038, exp_count=0.15\n",
            "x=6, bin=00110, fit=-36.0, prob=0.038, exp_count=0.15\n",
            "x=27, bin=11011, fit=-729.0, prob=0.771, exp_count=3.09\n",
            "x=12, bin=01100, fit=-144.0, prob=0.152, exp_count=0.61\n",
            "\n",
            "Generation 5\n",
            "x=6, bin=00110, fit=-36.0, prob=0.205, exp_count=0.82\n",
            "x=10, bin=01010, fit=-100.0, prob=0.568, exp_count=2.27\n",
            "x=2, bin=00010, fit=-4.0, prob=0.023, exp_count=0.09\n",
            "x=6, bin=00110, fit=-36.0, prob=0.205, exp_count=0.82\n",
            "\n",
            "Generation 6\n",
            "x=6, bin=00110, fit=-36.0, prob=0.163, exp_count=0.65\n",
            "x=7, bin=00111, fit=-49.0, prob=0.222, exp_count=0.89\n",
            "x=10, bin=01010, fit=-100.0, prob=0.452, exp_count=1.81\n",
            "x=6, bin=00110, fit=-36.0, prob=0.163, exp_count=0.65\n",
            "\n",
            "Generation 7\n",
            "x=14, bin=01110, fit=-196.0, prob=0.718, exp_count=2.87\n",
            "x=6, bin=00110, fit=-36.0, prob=0.132, exp_count=0.53\n",
            "x=4, bin=00100, fit=-16.0, prob=0.059, exp_count=0.23\n",
            "x=5, bin=00101, fit=-25.0, prob=0.092, exp_count=0.37\n",
            "\n",
            "Generation 8\n",
            "x=21, bin=10101, fit=-441.0, prob=0.635, exp_count=2.54\n",
            "x=7, bin=00111, fit=-49.0, prob=0.071, exp_count=0.28\n",
            "x=6, bin=00110, fit=-36.0, prob=0.052, exp_count=0.21\n",
            "x=13, bin=01101, fit=-169.0, prob=0.243, exp_count=0.97\n",
            "\n",
            "Generation 9\n",
            "x=21, bin=10101, fit=-441.0, prob=0.369, exp_count=1.48\n",
            "x=23, bin=10111, fit=-529.0, prob=0.443, exp_count=1.77\n",
            "x=9, bin=01001, fit=-81.0, prob=0.068, exp_count=0.27\n",
            "x=12, bin=01100, fit=-144.0, prob=0.121, exp_count=0.48\n",
            "\n",
            "Generation 10\n",
            "x=16, bin=10000, fit=-256.0, prob=0.186, exp_count=0.74\n",
            "x=13, bin=01101, fit=-169.0, prob=0.123, exp_count=0.49\n",
            "x=28, bin=11100, fit=-784.0, prob=0.569, exp_count=2.28\n",
            "x=13, bin=01101, fit=-169.0, prob=0.123, exp_count=0.49\n",
            "\n",
            "Final Best Solution: 4 00100 fitness= -16.0\n"
          ]
        }
      ]
    },
    {
      "cell_type": "code",
      "source": [],
      "metadata": {
        "id": "s_ClJHJvZSvd"
      },
      "execution_count": null,
      "outputs": []
    }
  ]
}